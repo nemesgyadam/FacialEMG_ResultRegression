{
 "cells": [
  {
   "cell_type": "code",
   "execution_count": 6,
   "metadata": {},
   "outputs": [],
   "source": [
    "import pandas as pd\n",
    "import numpy as np\n",
    "%matplotlib inline\n",
    "\n",
    "from scipy import stats\n",
    "import statsmodels.api as sm\n",
    "from sklearn.preprocessing import MinMaxScaler\n"
   ]
  },
  {
   "cell_type": "code",
   "execution_count": 2,
   "metadata": {},
   "outputs": [],
   "source": [
    "def normalize(d):\n",
    "    d = d.reshape(-1, 1)\n",
    "    scaler = MinMaxScaler()\n",
    "    scaler.fit(d)\n",
    "    return scaler.transform(d)\n"
   ]
  },
  {
   "cell_type": "code",
   "execution_count": 3,
   "metadata": {},
   "outputs": [],
   "source": [
    "data = pd.read_csv(\"data/summary_fake.csv\", index_col=0)\n",
    "columns = list(data.columns[:-4])\n",
    "labels = list(data.columns[-4:])\n"
   ]
  },
  {
   "cell_type": "markdown",
   "metadata": {},
   "source": [
    "Null hypothesis is a  that there is no relationship between two measured phenomena.\\\n",
    "H0 => P<alpha"
   ]
  },
  {
   "cell_type": "code",
   "execution_count": 5,
   "metadata": {},
   "outputs": [
    {
     "name": "stdout",
     "output_type": "stream",
     "text": [
      "(20, 8) (20, 4)\n"
     ]
    }
   ],
   "source": [
    "X = np.array(data.iloc[:, :-4], dtype=np.float64)\n",
    "y = np.array(data.iloc[:, -4:], dtype=np.float64)\n",
    "print(X.shape, y.shape)\n"
   ]
  },
  {
   "cell_type": "markdown",
   "metadata": {},
   "source": [
    "# Z Test"
   ]
  },
  {
   "cell_type": "code",
   "execution_count": 8,
   "metadata": {},
   "outputs": [
    {
     "data": {
      "text/plain": [
       "DescribeResult(nobs=32, minmax=(0.0049137544724128165, 0.9792374765647687), mean=0.427810970863735, variance=0.12771046476172004, skewness=0.3558679634454945, kurtosis=-1.5213841286321441)"
      ]
     },
     "execution_count": 8,
     "metadata": {},
     "output_type": "execute_result"
    }
   ],
   "source": [
    "p_values = []\n",
    "for xi in range(X.shape[1]):\n",
    "    for yi in range(y.shape[1]):\n",
    "        _X = normalize(X[:, xi])\n",
    "        _y = normalize(y[:, yi])\n",
    "        p = stats.ttest_ind(_X, _y).pvalue[0]\n",
    "        if False:\n",
    "            print(f\"Testing {columns[xi]} vs {labels[yi]}\")\n",
    "            print(f\"p-value: {p}\")\n",
    "        p_values.append(p)\n",
    "stats.describe(p_values)\n"
   ]
  },
  {
   "cell_type": "code",
   "execution_count": 9,
   "metadata": {},
   "outputs": [
    {
     "name": "stdout",
     "output_type": "stream",
     "text": [
      "Reject null hypothesis\n",
      "So there is a significant difference between the two distributions\n"
     ]
    }
   ],
   "source": [
    "alpha = 0.97\n",
    "if max(p_values)> alpha:\n",
    "    print(\"Reject null hypothesis\")\n",
    "    print(\"So there is a significant difference between the two distributions\")\n",
    "else:\n",
    "    print(\"Accept null hypothesis\")\n",
    "    print(\"So there is no significant difference between the two distributions\")\n"
   ]
  },
  {
   "cell_type": "markdown",
   "metadata": {},
   "source": [
    "# Ordinary Least Squares"
   ]
  },
  {
   "cell_type": "code",
   "execution_count": 11,
   "metadata": {},
   "outputs": [
    {
     "name": "stdout",
     "output_type": "stream",
     "text": [
      "Hypothesis testing for SVM_leaved_out\n",
      "Number of variables: 8\n",
      "                                 OLS Regression Results                                \n",
      "=======================================================================================\n",
      "Dep. Variable:                      y   R-squared (uncentered):                   0.991\n",
      "Model:                            OLS   Adj. R-squared (uncentered):              0.985\n",
      "Method:                 Least Squares   F-statistic:                              170.8\n",
      "Date:                Sun, 13 Nov 2022   Prob (F-statistic):                    3.58e-11\n",
      "Time:                        15:09:32   Log-Likelihood:                         -69.925\n",
      "No. Observations:                  20   AIC:                                      155.8\n",
      "Df Residuals:                      12   BIC:                                      163.8\n",
      "Df Model:                           8                                                  \n",
      "Covariance Type:            nonrobust                                                  \n",
      "==============================================================================\n",
      "                 coef    std err          t      P>|t|      [0.025      0.975]\n",
      "------------------------------------------------------------------------------\n",
      "x1             6.7314      5.900      1.141      0.276      -6.125      19.587\n",
      "x2             1.4718      0.476      3.095      0.009       0.436       2.508\n",
      "x3             2.5703      0.692      3.714      0.003       1.063       4.078\n",
      "x4            -0.1161      0.584     -0.199      0.846      -1.389       1.157\n",
      "x5             0.8369      0.558      1.500      0.159      -0.379       2.052\n",
      "x6             0.6598      0.441      1.496      0.160      -0.301       1.621\n",
      "x7            -0.2269      0.730     -0.311      0.761      -1.817       1.364\n",
      "x8            -1.1727      0.646     -1.814      0.095      -2.581       0.236\n",
      "==============================================================================\n",
      "Omnibus:                        0.349   Durbin-Watson:                   2.505\n",
      "Prob(Omnibus):                  0.840   Jarque-Bera (JB):                0.496\n",
      "Skew:                           0.216   Prob(JB):                        0.780\n",
      "Kurtosis:                       2.361   Cond. No.                         98.9\n",
      "==============================================================================\n",
      "\n",
      "Notes:\n",
      "[1] R² is computed without centering (uncentered) since the model does not contain a constant.\n",
      "[2] Standard Errors assume that the covariance matrix of the errors is correctly specified.\n",
      "Hypothesis testing for SVM_mean\n",
      "Number of variables: 8\n",
      "                                 OLS Regression Results                                \n",
      "=======================================================================================\n",
      "Dep. Variable:                      y   R-squared (uncentered):                   0.995\n",
      "Model:                            OLS   Adj. R-squared (uncentered):              0.991\n",
      "Method:                 Least Squares   F-statistic:                              277.3\n",
      "Date:                Sun, 13 Nov 2022   Prob (F-statistic):                    2.01e-12\n",
      "Time:                        15:09:32   Log-Likelihood:                         -67.978\n",
      "No. Observations:                  20   AIC:                                      152.0\n",
      "Df Residuals:                      12   BIC:                                      159.9\n",
      "Df Model:                           8                                                  \n",
      "Covariance Type:            nonrobust                                                  \n",
      "==============================================================================\n",
      "                 coef    std err          t      P>|t|      [0.025      0.975]\n",
      "------------------------------------------------------------------------------\n",
      "x1             0.2076      5.353      0.039      0.970     -11.456      11.871\n",
      "x2             1.8952      0.431      4.393      0.001       0.955       2.835\n",
      "x3             2.4722      0.628      3.938      0.002       1.104       3.840\n",
      "x4            -0.1099      0.530     -0.207      0.839      -1.265       1.045\n",
      "x5             1.6291      0.506      3.219      0.007       0.526       2.732\n",
      "x6             0.5032      0.400      1.257      0.233      -0.369       1.375\n",
      "x7            -0.0493      0.662     -0.074      0.942      -1.492       1.394\n",
      "x8            -1.2605      0.586     -2.149      0.053      -2.538       0.017\n",
      "==============================================================================\n",
      "Omnibus:                        1.023   Durbin-Watson:                   2.744\n",
      "Prob(Omnibus):                  0.600   Jarque-Bera (JB):                0.918\n",
      "Skew:                           0.326   Prob(JB):                        0.632\n",
      "Kurtosis:                       2.178   Cond. No.                         98.9\n",
      "==============================================================================\n",
      "\n",
      "Notes:\n",
      "[1] R² is computed without centering (uncentered) since the model does not contain a constant.\n",
      "[2] Standard Errors assume that the covariance matrix of the errors is correctly specified.\n",
      "Hypothesis testing for CNN_leaved_out\n",
      "Number of variables: 8\n",
      "                                 OLS Regression Results                                \n",
      "=======================================================================================\n",
      "Dep. Variable:                      y   R-squared (uncentered):                   0.995\n",
      "Model:                            OLS   Adj. R-squared (uncentered):              0.992\n",
      "Method:                 Least Squares   F-statistic:                              325.8\n",
      "Date:                Sun, 13 Nov 2022   Prob (F-statistic):                    7.70e-13\n",
      "Time:                        15:09:32   Log-Likelihood:                         -64.960\n",
      "No. Observations:                  20   AIC:                                      145.9\n",
      "Df Residuals:                      12   BIC:                                      153.9\n",
      "Df Model:                           8                                                  \n",
      "Covariance Type:            nonrobust                                                  \n",
      "==============================================================================\n",
      "                 coef    std err          t      P>|t|      [0.025      0.975]\n",
      "------------------------------------------------------------------------------\n",
      "x1             0.3143      4.603      0.068      0.947      -9.716      10.344\n",
      "x2             1.5784      0.371      4.255      0.001       0.770       2.387\n",
      "x3             2.0923      0.540      3.875      0.002       0.916       3.269\n",
      "x4            -0.0846      0.456     -0.186      0.856      -1.078       0.909\n",
      "x5             1.4005      0.435      3.218      0.007       0.452       2.349\n",
      "x6             1.1658      0.344      3.388      0.005       0.416       1.915\n",
      "x7             0.0397      0.570      0.070      0.946      -1.201       1.281\n",
      "x8            -1.1249      0.504     -2.231      0.046      -2.224      -0.026\n",
      "==============================================================================\n",
      "Omnibus:                        1.372   Durbin-Watson:                   2.714\n",
      "Prob(Omnibus):                  0.503   Jarque-Bera (JB):                1.129\n",
      "Skew:                           0.393   Prob(JB):                        0.569\n",
      "Kurtosis:                       2.141   Cond. No.                         98.9\n",
      "==============================================================================\n",
      "\n",
      "Notes:\n",
      "[1] R² is computed without centering (uncentered) since the model does not contain a constant.\n",
      "[2] Standard Errors assume that the covariance matrix of the errors is correctly specified.\n",
      "Hypothesis testing for CNN_mean\n",
      "Number of variables: 8\n",
      "                                 OLS Regression Results                                \n",
      "=======================================================================================\n",
      "Dep. Variable:                      y   R-squared (uncentered):                   0.994\n",
      "Model:                            OLS   Adj. R-squared (uncentered):              0.991\n",
      "Method:                 Least Squares   F-statistic:                              266.2\n",
      "Date:                Sun, 13 Nov 2022   Prob (F-statistic):                    2.56e-12\n",
      "Time:                        15:09:32   Log-Likelihood:                         -67.835\n",
      "No. Observations:                  20   AIC:                                      151.7\n",
      "Df Residuals:                      12   BIC:                                      159.6\n",
      "Df Model:                           8                                                  \n",
      "Covariance Type:            nonrobust                                                  \n",
      "==============================================================================\n",
      "                 coef    std err          t      P>|t|      [0.025      0.975]\n",
      "------------------------------------------------------------------------------\n",
      "x1            -0.1775      5.315     -0.033      0.974     -11.758      11.403\n",
      "x2             1.7944      0.428      4.189      0.001       0.861       2.728\n",
      "x3             2.3323      0.623      3.742      0.003       0.974       3.690\n",
      "x4            -0.0206      0.526     -0.039      0.969      -1.168       1.126\n",
      "x5             1.4683      0.503      2.922      0.013       0.373       2.563\n",
      "x6             0.7135      0.397      1.796      0.098      -0.152       1.579\n",
      "x7            -0.0812      0.658     -0.124      0.904      -1.514       1.351\n",
      "x8            -1.1457      0.582     -1.968      0.073      -2.414       0.123\n",
      "==============================================================================\n",
      "Omnibus:                        1.239   Durbin-Watson:                   2.695\n",
      "Prob(Omnibus):                  0.538   Jarque-Bera (JB):                1.012\n",
      "Skew:                           0.331   Prob(JB):                        0.603\n",
      "Kurtosis:                       2.118   Cond. No.                         98.9\n",
      "==============================================================================\n",
      "\n",
      "Notes:\n",
      "[1] R² is computed without centering (uncentered) since the model does not contain a constant.\n",
      "[2] Standard Errors assume that the covariance matrix of the errors is correctly specified.\n"
     ]
    }
   ],
   "source": [
    "for label in labels:\n",
    "    print(f\"Hypothesis testing for {label}\")\n",
    "    numVars = len(X[0])\n",
    "    print(f\"Number of variables: {numVars}\")\n",
    "    _y = y[:, labels.index(label)]\n",
    "    regressor_OLS = sm.OLS(_y, X ).fit()\n",
    "    print(regressor_OLS.summary())\n",
    "\n"
   ]
  },
  {
   "cell_type": "code",
   "execution_count": null,
   "metadata": {},
   "outputs": [],
   "source": []
  }
 ],
 "metadata": {
  "kernelspec": {
   "display_name": "Python 3.11.0 64-bit",
   "language": "python",
   "name": "python3"
  },
  "language_info": {
   "codemirror_mode": {
    "name": "ipython",
    "version": 3
   },
   "file_extension": ".py",
   "mimetype": "text/x-python",
   "name": "python",
   "nbconvert_exporter": "python",
   "pygments_lexer": "ipython3",
   "version": "3.11.0"
  },
  "orig_nbformat": 4,
  "vscode": {
   "interpreter": {
    "hash": "9cefe38f745df9e33a66570f2e5a410ba71c4ae3bf929b6ad1b474ac5f904d76"
   }
  }
 },
 "nbformat": 4,
 "nbformat_minor": 2
}
