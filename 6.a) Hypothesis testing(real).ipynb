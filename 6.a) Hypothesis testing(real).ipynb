{
 "cells": [
  {
   "cell_type": "code",
   "execution_count": 6,
   "metadata": {},
   "outputs": [],
   "source": [
    "import pandas as pd\n",
    "import numpy as np\n",
    "%matplotlib inline\n",
    "\n",
    "from scipy import stats\n",
    "import statsmodels.api as sm\n",
    "from sklearn.preprocessing import MinMaxScaler\n"
   ]
  },
  {
   "cell_type": "code",
   "execution_count": 2,
   "metadata": {},
   "outputs": [],
   "source": [
    "def normalize(d):\n",
    "    d = d.reshape(-1, 1)\n",
    "    scaler = MinMaxScaler()\n",
    "    scaler.fit(d)\n",
    "    return scaler.transform(d)\n"
   ]
  },
  {
   "cell_type": "code",
   "execution_count": 3,
   "metadata": {},
   "outputs": [],
   "source": [
    "data = pd.read_csv(\"data/summary_real.csv\", index_col=0)\n",
    "columns = list(data.columns[:-4])\n",
    "labels = list(data.columns[-4:])\n"
   ]
  },
  {
   "cell_type": "markdown",
   "metadata": {},
   "source": [
    "Null hypothesis is a  that there is no relationship between two measured phenomena.\\\n",
    "H0 => P<alpha"
   ]
  },
  {
   "cell_type": "code",
   "execution_count": 5,
   "metadata": {},
   "outputs": [
    {
     "name": "stdout",
     "output_type": "stream",
     "text": [
      "(20, 8) (20, 4)\n"
     ]
    }
   ],
   "source": [
    "X = np.array(data.iloc[:, :-4], dtype=np.float64)\n",
    "y = np.array(data.iloc[:, -4:], dtype=np.float64)\n",
    "print(X.shape, y.shape)\n"
   ]
  },
  {
   "cell_type": "markdown",
   "metadata": {},
   "source": [
    "# Z Test"
   ]
  },
  {
   "cell_type": "code",
   "execution_count": 8,
   "metadata": {},
   "outputs": [
    {
     "data": {
      "text/plain": [
       "DescribeResult(nobs=32, minmax=(0.0049137544724128165, 0.9618023927889907), mean=0.3139233177902796, variance=0.10428471794577267, skewness=0.8313626421709804, kurtosis=-0.8149125357546638)"
      ]
     },
     "execution_count": 8,
     "metadata": {},
     "output_type": "execute_result"
    }
   ],
   "source": [
    "p_values = []\n",
    "for xi in range(X.shape[1]):\n",
    "    for yi in range(y.shape[1]):\n",
    "        _X = normalize(X[:, xi])\n",
    "        _y = normalize(y[:, yi])\n",
    "        p = stats.ttest_ind(_X, _y).pvalue[0]\n",
    "        if False:\n",
    "            print(f\"Testing {columns[xi]} vs {labels[yi]}\")\n",
    "            print(f\"p-value: {p}\")\n",
    "        p_values.append(p)\n",
    "stats.describe(p_values)\n"
   ]
  },
  {
   "cell_type": "code",
   "execution_count": 9,
   "metadata": {},
   "outputs": [
    {
     "name": "stdout",
     "output_type": "stream",
     "text": [
      "Accept null hypothesis\n",
      "So there is no significant difference between the two distributions\n"
     ]
    }
   ],
   "source": [
    "alpha = 0.97\n",
    "if max(p_values)> alpha:\n",
    "    print(\"Reject null hypothesis\")\n",
    "    print(\"So there is a significant difference between the two distributions\")\n",
    "else:\n",
    "    print(\"Accept null hypothesis\")\n",
    "    print(\"So there is no significant difference between the two distributions\")\n"
   ]
  },
  {
   "cell_type": "markdown",
   "metadata": {},
   "source": [
    "# Ordinary Least Squares"
   ]
  },
  {
   "cell_type": "code",
   "execution_count": 11,
   "metadata": {},
   "outputs": [
    {
     "name": "stdout",
     "output_type": "stream",
     "text": [
      "Hypothesis testing for SVM_leaved_out\n",
      "Number of variables: 8\n",
      "                                 OLS Regression Results                                \n",
      "=======================================================================================\n",
      "Dep. Variable:                      y   R-squared (uncentered):                   0.990\n",
      "Model:                            OLS   Adj. R-squared (uncentered):              0.984\n",
      "Method:                 Least Squares   F-statistic:                              153.8\n",
      "Date:                Sun, 13 Nov 2022   Prob (F-statistic):                    6.64e-11\n",
      "Time:                        15:09:47   Log-Likelihood:                         -70.959\n",
      "No. Observations:                  20   AIC:                                      157.9\n",
      "Df Residuals:                      12   BIC:                                      165.9\n",
      "Df Model:                           8                                                  \n",
      "Covariance Type:            nonrobust                                                  \n",
      "==============================================================================\n",
      "                 coef    std err          t      P>|t|      [0.025      0.975]\n",
      "------------------------------------------------------------------------------\n",
      "x1             6.3821      6.206      1.028      0.324      -7.140      19.904\n",
      "x2             1.7090      0.482      3.547      0.004       0.659       2.759\n",
      "x3             2.8036      0.743      3.775      0.003       1.185       4.422\n",
      "x4            -0.2214      0.620     -0.357      0.727      -1.573       1.130\n",
      "x5             1.5464      0.813      1.901      0.082      -0.226       3.318\n",
      "x6            -0.7284      0.795     -0.916      0.378      -2.460       1.004\n",
      "x7            -1.1268      0.832     -1.354      0.201      -2.940       0.686\n",
      "x8            -0.8055      0.639     -1.260      0.232      -2.198       0.587\n",
      "==============================================================================\n",
      "Omnibus:                        0.222   Durbin-Watson:                   2.355\n",
      "Prob(Omnibus):                  0.895   Jarque-Bera (JB):                0.418\n",
      "Skew:                           0.075   Prob(JB):                        0.811\n",
      "Kurtosis:                       2.308   Cond. No.                         96.1\n",
      "==============================================================================\n",
      "\n",
      "Notes:\n",
      "[1] R² is computed without centering (uncentered) since the model does not contain a constant.\n",
      "[2] Standard Errors assume that the covariance matrix of the errors is correctly specified.\n",
      "Hypothesis testing for SVM_mean\n",
      "Number of variables: 8\n",
      "                                 OLS Regression Results                                \n",
      "=======================================================================================\n",
      "Dep. Variable:                      y   R-squared (uncentered):                   0.994\n",
      "Model:                            OLS   Adj. R-squared (uncentered):              0.991\n",
      "Method:                 Least Squares   F-statistic:                              266.0\n",
      "Date:                Sun, 13 Nov 2022   Prob (F-statistic):                    2.57e-12\n",
      "Time:                        15:09:47   Log-Likelihood:                         -68.393\n",
      "No. Observations:                  20   AIC:                                      152.8\n",
      "Df Residuals:                      12   BIC:                                      160.8\n",
      "Df Model:                           8                                                  \n",
      "Covariance Type:            nonrobust                                                  \n",
      "==============================================================================\n",
      "                 coef    std err          t      P>|t|      [0.025      0.975]\n",
      "------------------------------------------------------------------------------\n",
      "x1             0.0218      5.459      0.004      0.997     -11.873      11.916\n",
      "x2             2.0836      0.424      4.917      0.000       1.160       3.007\n",
      "x3             2.6805      0.653      4.103      0.001       1.257       4.104\n",
      "x4            -0.2056      0.545     -0.377      0.713      -1.394       0.983\n",
      "x5             2.2818      0.715      3.190      0.008       0.723       3.840\n",
      "x6            -0.7092      0.699     -1.014      0.330      -2.233       0.814\n",
      "x7            -0.8249      0.732     -1.127      0.282      -2.419       0.770\n",
      "x8            -0.9739      0.562     -1.732      0.109      -2.199       0.251\n",
      "==============================================================================\n",
      "Omnibus:                        4.363   Durbin-Watson:                   2.748\n",
      "Prob(Omnibus):                  0.113   Jarque-Bera (JB):                2.990\n",
      "Skew:                           0.946   Prob(JB):                        0.224\n",
      "Kurtosis:                       3.072   Cond. No.                         96.1\n",
      "==============================================================================\n",
      "\n",
      "Notes:\n",
      "[1] R² is computed without centering (uncentered) since the model does not contain a constant.\n",
      "[2] Standard Errors assume that the covariance matrix of the errors is correctly specified.\n",
      "Hypothesis testing for CNN_leaved_out\n",
      "Number of variables: 8\n",
      "                                 OLS Regression Results                                \n",
      "=======================================================================================\n",
      "Dep. Variable:                      y   R-squared (uncentered):                   0.992\n",
      "Model:                            OLS   Adj. R-squared (uncentered):              0.986\n",
      "Method:                 Least Squares   F-statistic:                              181.2\n",
      "Date:                Sun, 13 Nov 2022   Prob (F-statistic):                    2.52e-11\n",
      "Time:                        15:09:47   Log-Likelihood:                         -70.791\n",
      "No. Observations:                  20   AIC:                                      157.6\n",
      "Df Residuals:                      12   BIC:                                      165.5\n",
      "Df Model:                           8                                                  \n",
      "Covariance Type:            nonrobust                                                  \n",
      "==============================================================================\n",
      "                 coef    std err          t      P>|t|      [0.025      0.975]\n",
      "------------------------------------------------------------------------------\n",
      "x1            -0.5428      6.154     -0.088      0.931     -13.952      12.866\n",
      "x2             1.9752      0.478      4.135      0.001       0.934       3.016\n",
      "x3             2.4142      0.737      3.278      0.007       0.809       4.019\n",
      "x4            -0.2248      0.615     -0.366      0.721      -1.565       1.115\n",
      "x5             2.3219      0.806      2.879      0.014       0.565       4.079\n",
      "x6            -0.8290      0.788     -1.052      0.314      -2.546       0.888\n",
      "x7            -1.2840      0.825     -1.556      0.146      -3.082       0.514\n",
      "x8            -0.4958      0.634     -0.782      0.449      -1.877       0.885\n",
      "==============================================================================\n",
      "Omnibus:                        9.062   Durbin-Watson:                   2.497\n",
      "Prob(Omnibus):                  0.011   Jarque-Bera (JB):                6.518\n",
      "Skew:                           1.303   Prob(JB):                       0.0384\n",
      "Kurtosis:                       4.018   Cond. No.                         96.1\n",
      "==============================================================================\n",
      "\n",
      "Notes:\n",
      "[1] R² is computed without centering (uncentered) since the model does not contain a constant.\n",
      "[2] Standard Errors assume that the covariance matrix of the errors is correctly specified.\n",
      "Hypothesis testing for CNN_mean\n",
      "Number of variables: 8\n",
      "                                 OLS Regression Results                                \n",
      "=======================================================================================\n",
      "Dep. Variable:                      y   R-squared (uncentered):                   0.994\n",
      "Model:                            OLS   Adj. R-squared (uncentered):              0.989\n",
      "Method:                 Least Squares   F-statistic:                              231.2\n",
      "Date:                Sun, 13 Nov 2022   Prob (F-statistic):                    5.93e-12\n",
      "Time:                        15:09:47   Log-Likelihood:                         -69.236\n",
      "No. Observations:                  20   AIC:                                      154.5\n",
      "Df Residuals:                      12   BIC:                                      162.4\n",
      "Df Model:                           8                                                  \n",
      "Covariance Type:            nonrobust                                                  \n",
      "==============================================================================\n",
      "                 coef    std err          t      P>|t|      [0.025      0.975]\n",
      "------------------------------------------------------------------------------\n",
      "x1            -0.5433      5.694     -0.095      0.926     -12.949      11.863\n",
      "x2             2.0520      0.442      4.643      0.001       1.089       3.015\n",
      "x3             2.5891      0.681      3.799      0.003       1.104       4.074\n",
      "x4            -0.1368      0.569     -0.240      0.814      -1.376       1.103\n",
      "x5             2.2520      0.746      3.018      0.011       0.626       3.878\n",
      "x6            -0.8104      0.729     -1.111      0.288      -2.399       0.779\n",
      "x7            -1.0676      0.763     -1.399      0.187      -2.731       0.596\n",
      "x8            -0.7476      0.586     -1.275      0.227      -2.025       0.530\n",
      "==============================================================================\n",
      "Omnibus:                        4.701   Durbin-Watson:                   2.773\n",
      "Prob(Omnibus):                  0.095   Jarque-Bera (JB):                3.194\n",
      "Skew:                           0.976   Prob(JB):                        0.203\n",
      "Kurtosis:                       3.147   Cond. No.                         96.1\n",
      "==============================================================================\n",
      "\n",
      "Notes:\n",
      "[1] R² is computed without centering (uncentered) since the model does not contain a constant.\n",
      "[2] Standard Errors assume that the covariance matrix of the errors is correctly specified.\n"
     ]
    }
   ],
   "source": [
    "for label in labels:\n",
    "    print(f\"Hypothesis testing for {label}\")\n",
    "    numVars = len(X[0])\n",
    "    print(f\"Number of variables: {numVars}\")\n",
    "    _y = y[:, labels.index(label)]\n",
    "    regressor_OLS = sm.OLS(_y, X ).fit()\n",
    "    print(regressor_OLS.summary())\n",
    "\n"
   ]
  },
  {
   "cell_type": "code",
   "execution_count": null,
   "metadata": {},
   "outputs": [],
   "source": []
  }
 ],
 "metadata": {
  "kernelspec": {
   "display_name": "Python 3.11.0 64-bit",
   "language": "python",
   "name": "python3"
  },
  "language_info": {
   "codemirror_mode": {
    "name": "ipython",
    "version": 3
   },
   "file_extension": ".py",
   "mimetype": "text/x-python",
   "name": "python",
   "nbconvert_exporter": "python",
   "pygments_lexer": "ipython3",
   "version": "3.11.0"
  },
  "orig_nbformat": 4,
  "vscode": {
   "interpreter": {
    "hash": "9cefe38f745df9e33a66570f2e5a410ba71c4ae3bf929b6ad1b474ac5f904d76"
   }
  }
 },
 "nbformat": 4,
 "nbformat_minor": 2
}
